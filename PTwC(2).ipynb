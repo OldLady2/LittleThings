{
  "nbformat": 4,
  "nbformat_minor": 0,
  "metadata": {
    "colab": {
      "provenance": [],
      "authorship_tag": "ABX9TyPom3QDaJsRI4KUEE5wHr1t",
      "include_colab_link": true
    },
    "kernelspec": {
      "name": "python3",
      "display_name": "Python 3"
    },
    "language_info": {
      "name": "python"
    }
  },
  "cells": [
    {
      "cell_type": "markdown",
      "metadata": {
        "id": "view-in-github",
        "colab_type": "text"
      },
      "source": [
        "<a href=\"https://colab.research.google.com/github/OldLady2/LittleThings/blob/master/PTwC(2).ipynb\" target=\"_parent\"><img src=\"https://colab.research.google.com/assets/colab-badge.svg\" alt=\"Open In Colab\"/></a>"
      ]
    },
    {
      "cell_type": "code",
      "execution_count": 2,
      "metadata": {
        "id": "puKlF7CHwb5k"
      },
      "outputs": [],
      "source": [
        "import torch\n",
        "import numpy as np"
      ]
    },
    {
      "cell_type": "markdown",
      "source": [
        "###LISTS"
      ],
      "metadata": {
        "id": "JA6Vwkeuy6qt"
      }
    },
    {
      "cell_type": "code",
      "source": [
        "my_list = [1, 2, 3, 4, 5]\n",
        "my_list"
      ],
      "metadata": {
        "colab": {
          "base_uri": "https://localhost:8080/"
        },
        "id": "72nkukF8yh2w",
        "outputId": "1beddff6-4555-4ce1-9417-102ab201d6f1"
      },
      "execution_count": 3,
      "outputs": [
        {
          "output_type": "execute_result",
          "data": {
            "text/plain": [
              "[1, 2, 3, 4, 5]"
            ]
          },
          "metadata": {},
          "execution_count": 3
        }
      ]
    },
    {
      "cell_type": "code",
      "source": [
        "my_list2 = [[1, 2, 3, 4, 5], [6, 7, 8,9, 10]]\n",
        "my_list2"
      ],
      "metadata": {
        "colab": {
          "base_uri": "https://localhost:8080/"
        },
        "id": "InhI0m6b1F9x",
        "outputId": "919cbc13-845b-4138-85c9-ae8f4c1b00e2"
      },
      "execution_count": 4,
      "outputs": [
        {
          "output_type": "execute_result",
          "data": {
            "text/plain": [
              "[[1, 2, 3, 4, 5], [6, 7, 8, 9, 10]]"
            ]
          },
          "metadata": {},
          "execution_count": 4
        }
      ]
    },
    {
      "cell_type": "markdown",
      "source": [
        "### NUMPY ARRAYS"
      ],
      "metadata": {
        "id": "nf9rGaVO13Cm"
      }
    },
    {
      "cell_type": "code",
      "source": [
        "np1 = np.random.rand(3, 4)\n",
        "np1"
      ],
      "metadata": {
        "colab": {
          "base_uri": "https://localhost:8080/"
        },
        "id": "BLoyduH-1_Fh",
        "outputId": "536aa2ef-78f6-4595-b414-1fd81dd04765"
      },
      "execution_count": 5,
      "outputs": [
        {
          "output_type": "execute_result",
          "data": {
            "text/plain": [
              "array([[0.48970256, 0.30205714, 0.93690819, 0.84998564],\n",
              "       [0.67441665, 0.70267398, 0.17616466, 0.78904498],\n",
              "       [0.13027423, 0.21761764, 0.43694164, 0.02055161]])"
            ]
          },
          "metadata": {},
          "execution_count": 5
        }
      ]
    },
    {
      "cell_type": "code",
      "source": [
        "np1.dtype"
      ],
      "metadata": {
        "colab": {
          "base_uri": "https://localhost:8080/"
        },
        "id": "dCXOOYAg2a3u",
        "outputId": "b7e5e3a7-d8a9-4bad-a1e9-736a184dfe1e"
      },
      "execution_count": 6,
      "outputs": [
        {
          "output_type": "execute_result",
          "data": {
            "text/plain": [
              "dtype('float64')"
            ]
          },
          "metadata": {},
          "execution_count": 6
        }
      ]
    },
    {
      "cell_type": "markdown",
      "source": [
        "### TENSORS"
      ],
      "metadata": {
        "id": "kdSPmKMV3x3X"
      }
    },
    {
      "cell_type": "code",
      "source": [
        "tensor_2d = torch.randn(3, 4)\n",
        "tensor_2d\n"
      ],
      "metadata": {
        "colab": {
          "base_uri": "https://localhost:8080/"
        },
        "id": "ftNpyWiu32OX",
        "outputId": "d3403edf-766a-439a-d5ee-5d5225ffcc8d"
      },
      "execution_count": 13,
      "outputs": [
        {
          "output_type": "execute_result",
          "data": {
            "text/plain": [
              "tensor([[ 0.0172,  0.7165, -1.2634, -0.8578],\n",
              "        [ 0.5276, -1.0285, -1.0413,  0.2544],\n",
              "        [ 0.2559, -1.0661, -0.9100, -0.7511]])"
            ]
          },
          "metadata": {},
          "execution_count": 13
        }
      ]
    },
    {
      "cell_type": "code",
      "source": [
        "tensor_2d.dtype"
      ],
      "metadata": {
        "colab": {
          "base_uri": "https://localhost:8080/"
        },
        "id": "xdjLj3MN7lfN",
        "outputId": "c8aed14c-fdd5-4f09-90e1-a8081f01689e"
      },
      "execution_count": 14,
      "outputs": [
        {
          "output_type": "execute_result",
          "data": {
            "text/plain": [
              "torch.float32"
            ]
          },
          "metadata": {},
          "execution_count": 14
        }
      ]
    },
    {
      "cell_type": "code",
      "source": [
        "tensor_3d = torch.zeros(2, 3, 4)\n",
        "tensor_3d"
      ],
      "metadata": {
        "colab": {
          "base_uri": "https://localhost:8080/"
        },
        "id": "52bNOpTr4wsK",
        "outputId": "f693e841-1590-449f-927d-e4493752f483"
      },
      "execution_count": 9,
      "outputs": [
        {
          "output_type": "execute_result",
          "data": {
            "text/plain": [
              "tensor([[[0., 0., 0., 0.],\n",
              "         [0., 0., 0., 0.],\n",
              "         [0., 0., 0., 0.]],\n",
              "\n",
              "        [[0., 0., 0., 0.],\n",
              "         [0., 0., 0., 0.],\n",
              "         [0., 0., 0., 0.]]])"
            ]
          },
          "metadata": {},
          "execution_count": 9
        }
      ]
    },
    {
      "cell_type": "code",
      "source": [
        "tensor_3d2 = torch.randn(2, 3, 4)\n",
        "tensor_3d2"
      ],
      "metadata": {
        "colab": {
          "base_uri": "https://localhost:8080/"
        },
        "id": "0s4-MC_V5dri",
        "outputId": "71fd774b-958e-41d7-f152-5387e1c39d67"
      },
      "execution_count": 10,
      "outputs": [
        {
          "output_type": "execute_result",
          "data": {
            "text/plain": [
              "tensor([[[-0.3799, -0.6151,  0.1570,  0.7740],\n",
              "         [ 0.2256, -0.8288,  0.5380, -0.1229],\n",
              "         [-0.1477,  1.4116,  1.7872,  0.5148]],\n",
              "\n",
              "        [[ 1.5031, -0.6576,  0.7113,  1.8878],\n",
              "         [ 0.0573, -0.1834, -0.8271,  0.7707],\n",
              "         [ 0.2333, -0.2325, -1.2424, -1.5969]]])"
            ]
          },
          "metadata": {},
          "execution_count": 10
        }
      ]
    },
    {
      "cell_type": "code",
      "source": [
        "## Create tensor out of numpy array\n",
        "my_tensor = torch.tensor(np1)\n",
        "my_tensor"
      ],
      "metadata": {
        "colab": {
          "base_uri": "https://localhost:8080/"
        },
        "id": "7rl77Lov6bFF",
        "outputId": "9956be4d-3865-4000-a78e-0bf9773139ec"
      },
      "execution_count": 11,
      "outputs": [
        {
          "output_type": "execute_result",
          "data": {
            "text/plain": [
              "tensor([[0.4897, 0.3021, 0.9369, 0.8500],\n",
              "        [0.6744, 0.7027, 0.1762, 0.7890],\n",
              "        [0.1303, 0.2176, 0.4369, 0.0206]], dtype=torch.float64)"
            ]
          },
          "metadata": {},
          "execution_count": 11
        }
      ]
    }
  ]
}